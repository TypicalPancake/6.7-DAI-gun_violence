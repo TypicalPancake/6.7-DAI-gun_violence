{
 "cells": [
  {
   "cell_type": "code",
   "execution_count": 3,
   "id": "172d8617-7d7d-49f1-84dd-7698e7106c34",
   "metadata": {},
   "outputs": [
    {
     "name": "stdout",
     "output_type": "stream",
     "text": [
      "   Unnamed: 0.1  Unnamed: 0  incident_id        date           state  \\\n",
      "0             0           0       461105  2013-01-01    Pennsylvania   \n",
      "1             1           1       460726  2013-01-01      California   \n",
      "2             2           2       478855  2013-01-01            Ohio   \n",
      "3             3           3       478925  2013-01-05        Colorado   \n",
      "4             4           4       478959  2013-01-07  North Carolina   \n",
      "\n",
      "  city_or_county                                    address  n_killed  \\\n",
      "0     Mckeesport  1506 Versailles Avenue and Coursin Street         0   \n",
      "1      Hawthorne               13500 block of Cerise Avenue         1   \n",
      "2         Lorain                      1776 East 28th Street         1   \n",
      "3         Aurora           16000 block of East Ithaca Place         4   \n",
      "4     Greensboro                  307 Mourning Dove Terrace         2   \n",
      "\n",
      "   n_injured                                       incident_url  ...  \\\n",
      "0          4  http://www.gunviolencearchive.org/incident/461105  ...   \n",
      "1          3  http://www.gunviolencearchive.org/incident/460726  ...   \n",
      "2          3  http://www.gunviolencearchive.org/incident/478855  ...   \n",
      "3          0  http://www.gunviolencearchive.org/incident/478925  ...   \n",
      "4          2  http://www.gunviolencearchive.org/incident/478959  ...   \n",
      "\n",
      "  gun_stolen_0  gun_stolen_1  gun_stolen_2 gun_stolen_3 gun_stolen_4  \\\n",
      "0                          U             n            k            n   \n",
      "1                          U             n            k            n   \n",
      "2                          0             :            :            U   \n",
      "3                          U             n            k            n   \n",
      "4                          0             :            :            U   \n",
      "\n",
      "  gun_stolen_5  gun_stolen_6 gun_stolen_7  gun_stolen_8    gun_stolen_9  \n",
      "0            o             w            n                          None  \n",
      "1            o             w            n                          None  \n",
      "2            n             k            n             o  wn||1::Unknown  \n",
      "3            o             w            n                          None  \n",
      "4            n             k            n             o  wn||1::Unknown  \n",
      "\n",
      "[5 rows x 51 columns]\n"
     ]
    }
   ],
   "source": [
    "# Re-loading the uploaded file for processing\n",
    "import pandas as pd\n",
    "import numpy as np\n",
    "import matplotlib.pyplot as plt\n",
    "import seaborn as sns\n",
    "import os\n",
    "\n",
    "#create path\n",
    "path = r'C:\\Users\\TypicalPancake\\6.10 Gun Violence 12-2024'\n",
    "\n",
    "#Import Dataframe\n",
    "df = pd.read_csv(os.path.join(path, '02 Data', 'Prepared Data', 'gv_cleaned.csv'))\n",
    "\n",
    "# Define a function to split the key::value pairs into separate columns\n",
    "def split_column_limited(df, column_name, prefix, max_splits=10):\n",
    "    if column_name in df.columns:\n",
    "        # Expand the key::value pairs into a limited number of separate columns\n",
    "        expanded = df[column_name].str.split('||', expand=True, n=max_splits - 1)\n",
    "        \n",
    "        # Rename columns with appropriate prefixes\n",
    "        expanded.columns = [f\"{prefix}_{i}\" for i in range(expanded.shape[1])]\n",
    "        \n",
    "        # Merge the expanded columns back with the original data\n",
    "        data = pd.concat([df, expanded], axis=1)\n",
    "    return data\n",
    "\n",
    "# Apply the function to split 'gun_type' and 'gun_stolen'\n",
    "df = split_column_limited(df, 'gun_type', 'gun_type', max_splits=10)\n",
    "df = split_column_limited(df, 'gun_stolen', 'gun_stolen', max_splits=10)\n",
    "\n",
    "# Display the resulting dataframe to the user\n",
    "print(df.head())"
   ]
  },
  {
   "cell_type": "code",
   "execution_count": 4,
   "id": "6b1cf103-efc0-48c3-9398-76ad4b356bb9",
   "metadata": {},
   "outputs": [
    {
     "data": {
      "text/plain": [
       "(239677, 51)"
      ]
     },
     "execution_count": 4,
     "metadata": {},
     "output_type": "execute_result"
    }
   ],
   "source": [
    "df.shape"
   ]
  },
  {
   "cell_type": "code",
   "execution_count": null,
   "id": "5f0a54d3-c431-4e41-a5fa-5c435d24c74f",
   "metadata": {},
   "outputs": [],
   "source": []
  }
 ],
 "metadata": {
  "kernelspec": {
   "display_name": "Python 3 (ipykernel)",
   "language": "python",
   "name": "python3"
  },
  "language_info": {
   "codemirror_mode": {
    "name": "ipython",
    "version": 3
   },
   "file_extension": ".py",
   "mimetype": "text/x-python",
   "name": "python",
   "nbconvert_exporter": "python",
   "pygments_lexer": "ipython3",
   "version": "3.12.4"
  }
 },
 "nbformat": 4,
 "nbformat_minor": 5
}
