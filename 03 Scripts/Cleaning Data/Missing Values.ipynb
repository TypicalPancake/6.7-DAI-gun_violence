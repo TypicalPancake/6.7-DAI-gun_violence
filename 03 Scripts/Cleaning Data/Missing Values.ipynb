{
 "cells": [
  {
   "cell_type": "markdown",
   "id": "5f89f0b0-156d-4225-bd95-57748e9ef95a",
   "metadata": {},
   "source": [
    "# Import Libraries / Path / Data"
   ]
  },
  {
   "cell_type": "code",
   "execution_count": 106,
   "id": "31047327-24d6-46f8-adf7-c4c02e931a2c",
   "metadata": {},
   "outputs": [],
   "source": [
    "#import libraries\n",
    "import pandas as pd\n",
    "import numpy as np\n",
    "import os"
   ]
  },
  {
   "cell_type": "code",
   "execution_count": 107,
   "id": "cce8f1e0-5a10-4c37-b6c3-e4a7ad2fc9d3",
   "metadata": {},
   "outputs": [],
   "source": [
    "#create path\n",
    "path = r'C:\\Users\\TypicalPancake\\6.10 Gun Violence 12-2024'"
   ]
  },
  {
   "cell_type": "code",
   "execution_count": 108,
   "id": "f28b6a46-a000-4df5-b0bf-e598e16ceb56",
   "metadata": {},
   "outputs": [],
   "source": [
    "#import data\n",
    "df = pd.read_csv(os.path.join(path, '02 Data', 'Original Data', 'gun_violence_data_OG.csv'))"
   ]
  },
  {
   "cell_type": "code",
   "execution_count": 109,
   "id": "c5764e1a-2792-44ab-b87e-ba4ddcfd554f",
   "metadata": {},
   "outputs": [
    {
     "name": "stdout",
     "output_type": "stream",
     "text": [
      "   incident_id        date           state city_or_county  \\\n",
      "0       461105  2013-01-01    Pennsylvania     Mckeesport   \n",
      "1       460726  2013-01-01      California      Hawthorne   \n",
      "2       478855  2013-01-01            Ohio         Lorain   \n",
      "3       478925  2013-01-05        Colorado         Aurora   \n",
      "4       478959  2013-01-07  North Carolina     Greensboro   \n",
      "\n",
      "                                     address  n_killed  n_injured  \\\n",
      "0  1506 Versailles Avenue and Coursin Street         0          4   \n",
      "1               13500 block of Cerise Avenue         1          3   \n",
      "2                      1776 East 28th Street         1          3   \n",
      "3           16000 block of East Ithaca Place         4          0   \n",
      "4                  307 Mourning Dove Terrace         2          2   \n",
      "\n",
      "                                        incident_url  \\\n",
      "0  http://www.gunviolencearchive.org/incident/461105   \n",
      "1  http://www.gunviolencearchive.org/incident/460726   \n",
      "2  http://www.gunviolencearchive.org/incident/478855   \n",
      "3  http://www.gunviolencearchive.org/incident/478925   \n",
      "4  http://www.gunviolencearchive.org/incident/478959   \n",
      "\n",
      "                                          source_url  \\\n",
      "0  http://www.post-gazette.com/local/south/2013/0...   \n",
      "1  http://www.dailybulletin.com/article/zz/201301...   \n",
      "2  http://chronicle.northcoastnow.com/2013/02/14/...   \n",
      "3  http://www.dailydemocrat.com/20130106/aurora-s...   \n",
      "4  http://www.journalnow.com/news/local/article_d...   \n",
      "\n",
      "   incident_url_fields_missing  ...                    participant_age  \\\n",
      "0                        False  ...                              0::20   \n",
      "1                        False  ...                              0::20   \n",
      "2                        False  ...  0::25||1::31||2::33||3::34||4::33   \n",
      "3                        False  ...         0::29||1::33||2::56||3::33   \n",
      "4                        False  ...         0::18||1::46||2::14||3::47   \n",
      "\n",
      "                               participant_age_group  \\\n",
      "0  0::Adult 18+||1::Adult 18+||2::Adult 18+||3::A...   \n",
      "1  0::Adult 18+||1::Adult 18+||2::Adult 18+||3::A...   \n",
      "2  0::Adult 18+||1::Adult 18+||2::Adult 18+||3::A...   \n",
      "3  0::Adult 18+||1::Adult 18+||2::Adult 18+||3::A...   \n",
      "4  0::Adult 18+||1::Adult 18+||2::Teen 12-17||3::...   \n",
      "\n",
      "                            participant_gender  \\\n",
      "0         0::Male||1::Male||3::Male||4::Female   \n",
      "1                                      0::Male   \n",
      "2  0::Male||1::Male||2::Male||3::Male||4::Male   \n",
      "3         0::Female||1::Male||2::Male||3::Male   \n",
      "4       0::Female||1::Male||2::Male||3::Female   \n",
      "\n",
      "                                    participant_name  \\\n",
      "0                                     0::Julian Sims   \n",
      "1                                  0::Bernard Gillis   \n",
      "2  0::Damien Bell||1::Desmen Noble||2::Herman Sea...   \n",
      "3  0::Stacie Philbrook||1::Christopher Ratliffe||...   \n",
      "4  0::Danielle Imani Jameison||1::Maurice Eugene ...   \n",
      "\n",
      "   participant_relationship  \\\n",
      "0                       NaN   \n",
      "1                       NaN   \n",
      "2                       NaN   \n",
      "3                       NaN   \n",
      "4                 3::Family   \n",
      "\n",
      "                                  participant_status  \\\n",
      "0  0::Arrested||1::Injured||2::Injured||3::Injure...   \n",
      "1      0::Killed||1::Injured||2::Injured||3::Injured   \n",
      "2  0::Injured, Unharmed, Arrested||1::Unharmed, A...   \n",
      "3         0::Killed||1::Killed||2::Killed||3::Killed   \n",
      "4       0::Injured||1::Injured||2::Killed||3::Killed   \n",
      "\n",
      "                                    participant_type  \\\n",
      "0  0::Victim||1::Victim||2::Victim||3::Victim||4:...   \n",
      "1  0::Victim||1::Victim||2::Victim||3::Victim||4:...   \n",
      "2  0::Subject-Suspect||1::Subject-Suspect||2::Vic...   \n",
      "3  0::Victim||1::Victim||2::Victim||3::Subject-Su...   \n",
      "4  0::Victim||1::Victim||2::Victim||3::Subject-Su...   \n",
      "\n",
      "                                             sources state_house_district  \\\n",
      "0  http://pittsburgh.cbslocal.com/2013/01/01/4-pe...                  NaN   \n",
      "1  http://losangeles.cbslocal.com/2013/01/01/man-...                 62.0   \n",
      "2  http://www.morningjournal.com/general-news/201...                 56.0   \n",
      "3  http://denver.cbslocal.com/2013/01/06/officer-...                 40.0   \n",
      "4  http://myfox8.com/2013/01/08/update-mother-sho...                 62.0   \n",
      "\n",
      "  state_senate_district  \n",
      "0                   NaN  \n",
      "1                  35.0  \n",
      "2                  13.0  \n",
      "3                  28.0  \n",
      "4                  27.0  \n",
      "\n",
      "[5 rows x 29 columns]\n"
     ]
    }
   ],
   "source": [
    "#previewing\n",
    "print(df.head())"
   ]
  },
  {
   "cell_type": "markdown",
   "id": "d277f933-6e6a-4bd0-b45d-ea3df81d211d",
   "metadata": {},
   "source": [
    "# Missing Values"
   ]
  },
  {
   "cell_type": "code",
   "execution_count": 111,
   "id": "b4ed2bdd-6ac7-4ce0-ad2e-2576a42c6582",
   "metadata": {},
   "outputs": [
    {
     "name": "stdout",
     "output_type": "stream",
     "text": [
      "incident_id                         0\n",
      "date                                0\n",
      "state                               0\n",
      "city_or_county                      0\n",
      "address                         16497\n",
      "n_killed                            0\n",
      "n_injured                           0\n",
      "incident_url                        0\n",
      "source_url                        468\n",
      "incident_url_fields_missing         0\n",
      "congressional_district          11944\n",
      "gun_stolen                      99498\n",
      "gun_type                        99451\n",
      "incident_characteristics          326\n",
      "latitude                         7923\n",
      "location_description           197588\n",
      "longitude                        7923\n",
      "n_guns_involved                 99451\n",
      "notes                           81017\n",
      "participant_age                 92298\n",
      "participant_age_group           42119\n",
      "participant_gender              36362\n",
      "participant_name               122253\n",
      "participant_relationship       223903\n",
      "participant_status              27626\n",
      "participant_type                24863\n",
      "sources                           609\n",
      "state_house_district            38772\n",
      "state_senate_district           32335\n",
      "dtype: int64\n"
     ]
    }
   ],
   "source": [
    "#identify missing values\n",
    "missing_values = df.isnull()\n",
    "\n",
    "# Check for the sum of missing values in each column\n",
    "missing_summary = df.isnull().sum()\n",
    "\n",
    "# Display the summary of missing values\n",
    "print(missing_summary)"
   ]
  },
  {
   "cell_type": "code",
   "execution_count": 112,
   "id": "cba800e6-0a45-4cda-bcac-c9a74e4fe814",
   "metadata": {},
   "outputs": [
    {
     "name": "stdout",
     "output_type": "stream",
     "text": [
      "incident_id                      int64\n",
      "date                            object\n",
      "state                           object\n",
      "city_or_county                  object\n",
      "address                         object\n",
      "n_killed                         int64\n",
      "n_injured                        int64\n",
      "incident_url                    object\n",
      "source_url                      object\n",
      "incident_url_fields_missing       bool\n",
      "congressional_district         float64\n",
      "gun_stolen                      object\n",
      "gun_type                        object\n",
      "incident_characteristics        object\n",
      "latitude                       float64\n",
      "location_description            object\n",
      "longitude                      float64\n",
      "n_guns_involved                float64\n",
      "notes                           object\n",
      "participant_age                 object\n",
      "participant_age_group           object\n",
      "participant_gender              object\n",
      "participant_name                object\n",
      "participant_relationship        object\n",
      "participant_status              object\n",
      "participant_type                object\n",
      "sources                         object\n",
      "state_house_district           float64\n",
      "state_senate_district          float64\n",
      "dtype: object\n"
     ]
    }
   ],
   "source": [
    "print(df.dtypes)"
   ]
  },
  {
   "cell_type": "markdown",
   "id": "e2caf021-f0aa-4dbc-977c-18aad886cd6f",
   "metadata": {},
   "source": [
    "# Replacing Missing Values"
   ]
  },
  {
   "cell_type": "code",
   "execution_count": 114,
   "id": "e346c699-feed-4d13-9237-8cf5b1d8659f",
   "metadata": {},
   "outputs": [],
   "source": [
    "# Identify columns with object dtype\n",
    "object_columns = df.select_dtypes(include=['object']).columns\n",
    "\n",
    "# Replace missing values in these columns with \"Unknown\"\n",
    "df[object_columns] = df[object_columns].fillna(\"Unknown\")"
   ]
  },
  {
   "cell_type": "code",
   "execution_count": 115,
   "id": "b41cf857-012a-4f5d-b9ad-e64acf735bd6",
   "metadata": {},
   "outputs": [],
   "source": [
    "# Identify columns with float64 dtype\n",
    "float_columns = df.select_dtypes(include=['float64']).columns\n",
    "\n",
    "# Replace missing values in these columns with -1\n",
    "df[float_columns] = df[float_columns].fillna(-1)"
   ]
  },
  {
   "cell_type": "code",
   "execution_count": 127,
   "id": "64278b76-4196-4f57-bb00-55c312020f8a",
   "metadata": {},
   "outputs": [
    {
     "name": "stdout",
     "output_type": "stream",
     "text": [
      "incident_id                    0\n",
      "date                           0\n",
      "state                          0\n",
      "city_or_county                 0\n",
      "address                        0\n",
      "n_killed                       0\n",
      "n_injured                      0\n",
      "incident_url                   0\n",
      "source_url                     0\n",
      "incident_url_fields_missing    0\n",
      "congressional_district         0\n",
      "gun_stolen                     0\n",
      "gun_type                       0\n",
      "incident_characteristics       0\n",
      "latitude                       0\n",
      "location_description           0\n",
      "longitude                      0\n",
      "n_guns_involved                0\n",
      "notes                          0\n",
      "participant_age                0\n",
      "participant_age_group          0\n",
      "participant_gender             0\n",
      "participant_name               0\n",
      "participant_relationship       0\n",
      "participant_status             0\n",
      "participant_type               0\n",
      "sources                        0\n",
      "state_house_district           0\n",
      "state_senate_district          0\n",
      "dtype: int64\n"
     ]
    }
   ],
   "source": [
    "#identify missing values\n",
    "missing_values = df.isnull()\n",
    "\n",
    "# Check for the sum of missing values in each column\n",
    "missing_summary = df.isnull().sum()\n",
    "\n",
    "# Display the summary of missing values\n",
    "print(missing_summary)"
   ]
  },
  {
   "cell_type": "markdown",
   "id": "d9c2927a-2aa4-4981-8ac6-a43760b6d80f",
   "metadata": {},
   "source": [
    "# Exporting Dataframe"
   ]
  },
  {
   "cell_type": "code",
   "execution_count": 133,
   "id": "3c8417f9-56a6-4a70-b45c-752c23ae6400",
   "metadata": {},
   "outputs": [],
   "source": [
    "# Export the DataFrame to a CSV file\n",
    "df.to_csv(os.path.join(path, '02 Data','Prepared Data', 'gv_missing.csv'))"
   ]
  }
 ],
 "metadata": {
  "kernelspec": {
   "display_name": "Python 3 (ipykernel)",
   "language": "python",
   "name": "python3"
  },
  "language_info": {
   "codemirror_mode": {
    "name": "ipython",
    "version": 3
   },
   "file_extension": ".py",
   "mimetype": "text/x-python",
   "name": "python",
   "nbconvert_exporter": "python",
   "pygments_lexer": "ipython3",
   "version": "3.12.4"
  }
 },
 "nbformat": 4,
 "nbformat_minor": 5
}
