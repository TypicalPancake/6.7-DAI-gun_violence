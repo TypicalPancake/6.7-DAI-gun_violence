{
 "cells": [
  {
   "cell_type": "markdown",
   "id": "23c81e15-cdae-4aa8-b51d-7516e735156e",
   "metadata": {},
   "source": [
    "# Import Libraries / Path / Data"
   ]
  },
  {
   "cell_type": "code",
   "execution_count": 3,
   "id": "8e6aa0fc-5b1e-4913-a4b0-6bf79d5b4ffb",
   "metadata": {},
   "outputs": [],
   "source": [
    "#import libraries\n",
    "import pandas as pd\n",
    "import numpy as np\n",
    "import os"
   ]
  },
  {
   "cell_type": "code",
   "execution_count": 5,
   "id": "265746a3-e697-4bce-a9d9-2d1fcb641a68",
   "metadata": {},
   "outputs": [],
   "source": [
    "#create path\n",
    "path = r'C:\\Users\\TypicalPancake\\6.10 Gun Violence 12-2024'"
   ]
  },
  {
   "cell_type": "code",
   "execution_count": 7,
   "id": "ee5364a9-5076-47dc-b1cc-667e7fe7baf1",
   "metadata": {},
   "outputs": [],
   "source": [
    "#import data\n",
    "df = pd.read_csv(os.path.join(path, '02 Data', 'Prepared Data', 'gv_missing.csv'))"
   ]
  },
  {
   "cell_type": "markdown",
   "id": "f4559c5e-8574-4339-9c5c-8a7646decfeb",
   "metadata": {},
   "source": [
    "# Optimizing Dtypes Per Column"
   ]
  },
  {
   "cell_type": "code",
   "execution_count": 9,
   "id": "96605a9d-7ddd-4d2d-b86c-0d52537ccc1c",
   "metadata": {},
   "outputs": [
    {
     "name": "stdout",
     "output_type": "stream",
     "text": [
      "Initial memory usage:\n",
      "366.64 MB\n"
     ]
    }
   ],
   "source": [
    "# Display initial memory usage\n",
    "print(\"Initial memory usage:\")\n",
    "print(f\"{df.memory_usage(deep=True).sum() / 1024**2:.2f} MB\")"
   ]
  },
  {
   "cell_type": "code",
   "execution_count": 11,
   "id": "4a4d4b36-3eed-4fbe-9197-ebb6b7ef8778",
   "metadata": {},
   "outputs": [
    {
     "name": "stdout",
     "output_type": "stream",
     "text": [
      "\n",
      "Final memory usage:\n",
      "172.58 MB\n"
     ]
    }
   ],
   "source": [
    "# Optimize each column\n",
    "for col in df.columns:\n",
    "    col_type = df[col].dtype\n",
    "    \n",
    "    # Optimize numeric columns\n",
    "    if pd.api.types.is_numeric_dtype(col_type):\n",
    "        if pd.api.types.is_integer_dtype(col_type):\n",
    "            df[col] = pd.to_numeric(df[col], downcast='integer')\n",
    "        elif pd.api.types.is_float_dtype(col_type):\n",
    "            df[col] = pd.to_numeric(df[col], downcast='float')\n",
    "    \n",
    "    # Optimize object columns (e.g., strings)\n",
    "    elif pd.api.types.is_object_dtype(col_type):\n",
    "        unique_count = df[col].nunique()\n",
    "        total_count = len(df[col])\n",
    "        \n",
    "        # Convert to category if unique values are less than 50% of total rows\n",
    "        if unique_count / total_count < 0.5:\n",
    "            df[col] = df[col].astype('category')\n",
    "    \n",
    "    # Optimize datetime columns\n",
    "    elif pd.api.types.is_datetime64_any_dtype(col_type):\n",
    "        df[col] = pd.to_datetime(df[col], errors='coerce')\n",
    "\n",
    "# Display final memory usage\n",
    "print(\"\\nFinal memory usage:\")\n",
    "print(f\"{df.memory_usage(deep=True).sum() / 1024**2:.2f} MB\")"
   ]
  },
  {
   "cell_type": "code",
   "execution_count": 13,
   "id": "d8e2237b-ac76-42df-90a6-6489e665fdbb",
   "metadata": {},
   "outputs": [
    {
     "name": "stdout",
     "output_type": "stream",
     "text": [
      "Unnamed: 0                        int32\n",
      "incident_id                       int32\n",
      "date                           category\n",
      "state                          category\n",
      "city_or_county                 category\n",
      "address                          object\n",
      "n_killed                           int8\n",
      "n_injured                          int8\n",
      "incident_url                     object\n",
      "source_url                       object\n",
      "incident_url_fields_missing        bool\n",
      "congressional_district          float32\n",
      "gun_stolen                     category\n",
      "gun_type                       category\n",
      "incident_characteristics       category\n",
      "latitude                        float32\n",
      "location_description           category\n",
      "longitude                       float32\n",
      "n_guns_involved                 float32\n",
      "notes                            object\n",
      "participant_age                category\n",
      "participant_age_group          category\n",
      "participant_gender             category\n",
      "participant_name               category\n",
      "participant_relationship       category\n",
      "participant_status             category\n",
      "participant_type               category\n",
      "sources                          object\n",
      "state_house_district            float32\n",
      "state_senate_district           float32\n",
      "dtype: object\n"
     ]
    }
   ],
   "source": [
    "# Check data types\n",
    "print(df.dtypes)"
   ]
  },
  {
   "cell_type": "markdown",
   "id": "a6aa4cb7-2c10-434d-a674-f7ddf0e0e63d",
   "metadata": {},
   "source": [
    "# Exporting Dataframe"
   ]
  },
  {
   "cell_type": "code",
   "execution_count": 23,
   "id": "1657e239-75a7-40bf-bca9-1f5729566d0b",
   "metadata": {},
   "outputs": [],
   "source": [
    "df.to_csv(os.path.join(path, '02 Data','Prepared Data', 'gv_cleaned.csv'))"
   ]
  },
  {
   "cell_type": "code",
   "execution_count": null,
   "id": "982cc57f-240f-4d1f-b5f4-6ded7ffc062d",
   "metadata": {},
   "outputs": [],
   "source": []
  }
 ],
 "metadata": {
  "kernelspec": {
   "display_name": "Python 3 (ipykernel)",
   "language": "python",
   "name": "python3"
  },
  "language_info": {
   "codemirror_mode": {
    "name": "ipython",
    "version": 3
   },
   "file_extension": ".py",
   "mimetype": "text/x-python",
   "name": "python",
   "nbconvert_exporter": "python",
   "pygments_lexer": "ipython3",
   "version": "3.12.4"
  }
 },
 "nbformat": 4,
 "nbformat_minor": 5
}
