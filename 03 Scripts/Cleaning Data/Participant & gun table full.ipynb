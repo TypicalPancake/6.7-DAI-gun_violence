{
 "cells": [
  {
   "cell_type": "code",
   "execution_count": 4,
   "id": "8b19e361-8906-4614-a065-a39dc01d9aab",
   "metadata": {},
   "outputs": [],
   "source": [
    "#import library\n",
    "import pandas as pd\n",
    "import numpy as np\n",
    "import matplotlib.pyplot as plt\n",
    "import seaborn as sns\n",
    "import os"
   ]
  },
  {
   "cell_type": "code",
   "execution_count": 5,
   "id": "8c5a39e6-a3f0-45db-b0e0-8337a21e2143",
   "metadata": {},
   "outputs": [],
   "source": [
    "#create path\n",
    "path = r'C:\\Users\\TypicalPancake\\6.10 Gun Violence 12-2024'"
   ]
  },
  {
   "cell_type": "code",
   "execution_count": 6,
   "id": "30d83520-358b-41fb-9842-14ae40dd379a",
   "metadata": {},
   "outputs": [],
   "source": [
    "#import dataframe\n",
    "df = pd.read_csv(os.path.join(path, '02 Data', 'Prepared Data', 'gv_cleaned.csv'))"
   ]
  },
  {
   "cell_type": "code",
   "execution_count": 15,
   "id": "25f26c7f-b97c-48f0-9482-8bda8c03b749",
   "metadata": {},
   "outputs": [
    {
     "name": "stdout",
     "output_type": "stream",
     "text": [
      "Columns in the extracted DataFrame:\n",
      "['Incident ID', 'participant_age', 'participant_age_group', 'participant_gender', 'participant_name', 'participant_relationship', 'participant_status', 'participant_type', 'gun_type', 'gun_stolen']\n",
      "Participant data exported to participant_table_full.csv\n"
     ]
    }
   ],
   "source": [
    "# Define the function to extract participant data\n",
    "def extract_participant_data(df, incident_column, participant_columns):\n",
    "    participant_data = []\n",
    "    \n",
    "    for _, row in df.iterrows():\n",
    "        incident_id = row[incident_column]\n",
    "        \n",
    "        # Parse participant data\n",
    "        participants = {\n",
    "            col: row[col].split(\"||\") if pd.notna(row[col]) else []\n",
    "            for col in participant_columns\n",
    "        }\n",
    "        \n",
    "        # Iterate through participants\n",
    "        max_participants = max(len(participants[col]) for col in participant_columns if participants[col])\n",
    "        for i in range(max_participants):\n",
    "            participant_entry = {\"Incident ID\": incident_id}\n",
    "            for col in participant_columns:\n",
    "                try:\n",
    "                    key, value = participants[col][i].split(\"::\", 1)\n",
    "                    participant_entry[col] = value\n",
    "                except (IndexError, ValueError):\n",
    "                    participant_entry[col] = None  # Handle missing values\n",
    "            participant_data.append(participant_entry)\n",
    "    \n",
    "    return pd.DataFrame(participant_data)\n",
    "\n",
    "# Define the columns containing participant data\n",
    "participant_columns = [\n",
    "    \"participant_age\",\n",
    "    \"participant_age_group\",\n",
    "    \"participant_gender\",\n",
    "    \"participant_name\",\n",
    "    \"participant_relationship\",\n",
    "    \"participant_status\",\n",
    "    \"participant_type\",\n",
    "    \"gun_type\",\n",
    "    \"gun_stolen\"\n",
    "]\n",
    "\n",
    "# Generate the participant output for the entire dataset\n",
    "participant_output = extract_participant_data(df, \"incident_id\", participant_columns)\n",
    "\n",
    "# Verify and export the result\n",
    "if isinstance(participant_output, pd.DataFrame):\n",
    "    print(\"Columns in the extracted DataFrame:\")\n",
    "    print(participant_output.columns.tolist())\n",
    "    \n",
    "    # Export to CSV\n",
    "    participant_output.to_csv(os.path.join(path, '02 Data','Prepared Data',\"participant_gun_table_full.csv\"))\n",
    "    print(\"Participant data exported to participant_table_full.csv\")\n",
    "else:\n",
    "    print(\"Error: `participant_output` is not a DataFrame.\")\n"
   ]
  },
  {
   "cell_type": "code",
   "execution_count": 8,
   "id": "8dae0469-13b4-4287-bd33-dd55da1dd2cb",
   "metadata": {},
   "outputs": [
    {
     "name": "stdout",
     "output_type": "stream",
     "text": [
      "\n",
      "First few rows of the DataFrame:\n",
      "   Incident ID participant_age participant_age_group participant_gender  \\\n",
      "0       461105              20             Adult 18+               Male   \n",
      "1       461105            None             Adult 18+               Male   \n",
      "2       461105            None             Adult 18+               Male   \n",
      "3       461105            None             Adult 18+             Female   \n",
      "4       461105            None             Adult 18+               None   \n",
      "\n",
      "  participant_name participant_relationship participant_status  \\\n",
      "0      Julian Sims                     None           Arrested   \n",
      "1             None                     None            Injured   \n",
      "2             None                     None            Injured   \n",
      "3             None                     None            Injured   \n",
      "4             None                     None            Injured   \n",
      "\n",
      "  participant_type gun_type gun_stolen  \n",
      "0           Victim     None       None  \n",
      "1           Victim     None       None  \n",
      "2           Victim     None       None  \n",
      "3           Victim     None       None  \n",
      "4  Subject-Suspect     None       None  \n"
     ]
    }
   ],
   "source": [
    "# Display the first few rows of the DataFrame\n",
    "print(\"\\nFirst few rows of the DataFrame:\")\n",
    "print(participant_output.head())"
   ]
  },
  {
   "cell_type": "markdown",
   "id": "189c0182-fadf-4c2f-9468-03877dce09ae",
   "metadata": {},
   "source": [
    "# Merging to gv_cleaned.csv"
   ]
  },
  {
   "cell_type": "code",
   "execution_count": 20,
   "id": "63ebbdec-c1aa-454a-83bb-2aaf352cc4a3",
   "metadata": {},
   "outputs": [],
   "source": [
    "# Load your datasets\n",
    "participant_gun_table = pd.read_csv(os.path.join(path, '02 Data', 'Prepared Data', 'participant_gun_table_full.csv'))\n",
    "gv_cleaned = pd.read_csv(os.path.join(path, '02 Data', 'Prepared Data', 'gv_cleaned.csv'))\n",
    "# Ensure column naming consistency\n",
    "participant_gun_table.rename(columns={'Incident ID': 'incident_id'}, inplace=True)\n",
    "\n",
    "# Identify the columns to replace in gv_cleaned\n",
    "columns_to_replace = [\n",
    "    'participant_age',\n",
    "    'participant_age_group',\n",
    "    'participant_gender',\n",
    "    'participant_name',\n",
    "    'participant_relationship',\n",
    "    'participant_status',\n",
    "    'participant_type',\n",
    "    'gun_type',\n",
    "    'gun_stolen'\n",
    "]\n",
    "\n",
    "# Drop duplicates in `participant_gun_table` based on the key\n",
    "participant_gun_table_deduped = participant_gun_table.drop_duplicates(subset=['incident_id'])\n",
    "\n",
    "# Replace overlapping columns in `gv_cleaned` using `incident_id` as the key\n",
    "for column in columns_to_replace:\n",
    "    if column in participant_gun_table_deduped.columns and column in gv_cleaned.columns:\n",
    "        gv_cleaned.set_index('incident_id', inplace=True)\n",
    "        participant_gun_table_deduped.set_index('incident_id', inplace=True)\n",
    "        gv_cleaned.update(participant_gun_table_deduped[column])\n",
    "        gv_cleaned.reset_index(inplace=True)\n",
    "        participant_gun_table_deduped.reset_index(inplace=True)\n",
    "\n",
    "# Save the updated dataset\n",
    "gv_cleaned.to_csv('merged_gv_cleaned.csv', index=False)\n"
   ]
  },
  {
   "cell_type": "code",
   "execution_count": null,
   "id": "3cf38073-d22e-438a-85d2-c4963c225f9e",
   "metadata": {},
   "outputs": [],
   "source": []
  }
 ],
 "metadata": {
  "kernelspec": {
   "display_name": "Python 3 (ipykernel)",
   "language": "python",
   "name": "python3"
  },
  "language_info": {
   "codemirror_mode": {
    "name": "ipython",
    "version": 3
   },
   "file_extension": ".py",
   "mimetype": "text/x-python",
   "name": "python",
   "nbconvert_exporter": "python",
   "pygments_lexer": "ipython3",
   "version": "3.12.4"
  }
 },
 "nbformat": 4,
 "nbformat_minor": 5
}
